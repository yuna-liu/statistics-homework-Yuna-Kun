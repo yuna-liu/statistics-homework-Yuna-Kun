{
 "cells": [
  {
   "cell_type": "markdown",
   "metadata": {},
   "source": [
    "# Kapitel 1\n",
    "\n",
    "## Introduktion till statistisk analys"
   ]
  },
  {
   "cell_type": "code",
   "execution_count": 17,
   "metadata": {},
   "outputs": [],
   "source": [
    "#importera paket och exempeldata \n",
    "import numpy as np\n",
    "import pandas as pd\n",
    "import matplotlib.pyplot as plt\n",
    "import scipy.stats as scs \n",
    "from scipy.stats import f\n",
    "    \n",
    "Customers, Major, Gig = None, None, None\n",
    "with pd.ExcelFile(\"Kap1.xlsx\") as reader:\n",
    "        Customers=pd.read_excel(reader, sheet_name='Customers')\n",
    "        Major=pd.read_excel(reader, sheet_name='Major')\n",
    "        Gig=pd.read_excel(reader, sheet_name='Gig')"
   ]
  },
  {
   "cell_type": "code",
   "execution_count": 18,
   "metadata": {},
   "outputs": [
    {
     "data": {
      "text/html": [
       "<div>\n",
       "<style scoped>\n",
       "    .dataframe tbody tr th:only-of-type {\n",
       "        vertical-align: middle;\n",
       "    }\n",
       "\n",
       "    .dataframe tbody tr th {\n",
       "        vertical-align: top;\n",
       "    }\n",
       "\n",
       "    .dataframe thead th {\n",
       "        text-align: right;\n",
       "    }\n",
       "</style>\n",
       "<table border=\"1\" class=\"dataframe\">\n",
       "  <thead>\n",
       "    <tr style=\"text-align: right;\">\n",
       "      <th></th>\n",
       "      <th>Student</th>\n",
       "      <th>Major</th>\n",
       "    </tr>\n",
       "  </thead>\n",
       "  <tbody>\n",
       "    <tr>\n",
       "      <th>0</th>\n",
       "      <td>1</td>\n",
       "      <td>Accounting</td>\n",
       "    </tr>\n",
       "    <tr>\n",
       "      <th>1</th>\n",
       "      <td>2</td>\n",
       "      <td>Management</td>\n",
       "    </tr>\n",
       "    <tr>\n",
       "      <th>2</th>\n",
       "      <td>3</td>\n",
       "      <td>Economics</td>\n",
       "    </tr>\n",
       "    <tr>\n",
       "      <th>3</th>\n",
       "      <td>4</td>\n",
       "      <td>Finance</td>\n",
       "    </tr>\n",
       "    <tr>\n",
       "      <th>4</th>\n",
       "      <td>5</td>\n",
       "      <td>History</td>\n",
       "    </tr>\n",
       "  </tbody>\n",
       "</table>\n",
       "</div>"
      ],
      "text/plain": [
       "   Student       Major\n",
       "0        1  Accounting\n",
       "1        2  Management\n",
       "2        3   Economics\n",
       "3        4     Finance\n",
       "4        5     History"
      ]
     },
     "execution_count": 18,
     "metadata": {},
     "output_type": "execute_result"
    }
   ],
   "source": [
    "Major.head()"
   ]
  },
  {
   "cell_type": "code",
   "execution_count": 19,
   "metadata": {},
   "outputs": [
    {
     "data": {
      "text/html": [
       "<div>\n",
       "<style scoped>\n",
       "    .dataframe tbody tr th:only-of-type {\n",
       "        vertical-align: middle;\n",
       "    }\n",
       "\n",
       "    .dataframe tbody tr th {\n",
       "        vertical-align: top;\n",
       "    }\n",
       "\n",
       "    .dataframe thead th {\n",
       "        text-align: right;\n",
       "    }\n",
       "</style>\n",
       "<table border=\"1\" class=\"dataframe\">\n",
       "  <thead>\n",
       "    <tr style=\"text-align: right;\">\n",
       "      <th></th>\n",
       "      <th>EmployeeID</th>\n",
       "      <th>Wage</th>\n",
       "      <th>Industry</th>\n",
       "      <th>Job</th>\n",
       "    </tr>\n",
       "  </thead>\n",
       "  <tbody>\n",
       "    <tr>\n",
       "      <th>0</th>\n",
       "      <td>1</td>\n",
       "      <td>32.81</td>\n",
       "      <td>Construction</td>\n",
       "      <td>Analyst</td>\n",
       "    </tr>\n",
       "    <tr>\n",
       "      <th>1</th>\n",
       "      <td>2</td>\n",
       "      <td>46.00</td>\n",
       "      <td>Automotive</td>\n",
       "      <td>Engineer</td>\n",
       "    </tr>\n",
       "    <tr>\n",
       "      <th>2</th>\n",
       "      <td>3</td>\n",
       "      <td>43.13</td>\n",
       "      <td>Construction</td>\n",
       "      <td>Sales Rep</td>\n",
       "    </tr>\n",
       "    <tr>\n",
       "      <th>3</th>\n",
       "      <td>4</td>\n",
       "      <td>48.09</td>\n",
       "      <td>Automotive</td>\n",
       "      <td>Other</td>\n",
       "    </tr>\n",
       "    <tr>\n",
       "      <th>4</th>\n",
       "      <td>5</td>\n",
       "      <td>43.62</td>\n",
       "      <td>Automotive</td>\n",
       "      <td>Accountant</td>\n",
       "    </tr>\n",
       "  </tbody>\n",
       "</table>\n",
       "</div>"
      ],
      "text/plain": [
       "   EmployeeID   Wage      Industry         Job\n",
       "0           1  32.81  Construction     Analyst\n",
       "1           2  46.00    Automotive    Engineer\n",
       "2           3  43.13  Construction   Sales Rep\n",
       "3           4  48.09    Automotive       Other\n",
       "4           5  43.62    Automotive  Accountant"
      ]
     },
     "execution_count": 19,
     "metadata": {},
     "output_type": "execute_result"
    }
   ],
   "source": [
    "Gig = Gig.iloc[:, 0:4]\n",
    "\n",
    "Gig.head()"
   ]
  },
  {
   "cell_type": "markdown",
   "metadata": {},
   "source": [
    "<h1>Lägesmått eller mått på centraltendens</h1>"
   ]
  },
  {
   "cell_type": "markdown",
   "metadata": {},
   "source": [
    "<h3>Typvärdet för en datamängd är det vanligast förekommande värdet i datamängden</h3>"
   ]
  },
  {
   "cell_type": "markdown",
   "metadata": {},
   "source": [
    "Exempel: Vad är typvärdet för datamängden {Röd, Röd, Gul, Grön}?"
   ]
  },
  {
   "cell_type": "markdown",
   "metadata": {},
   "source": [
    "Vad är typvärdet av utbildningar i datamängden 'Major'?"
   ]
  },
  {
   "cell_type": "code",
   "execution_count": 8,
   "metadata": {},
   "outputs": [
    {
     "data": {
      "text/plain": [
       "0    Management\n",
       "dtype: object"
      ]
     },
     "execution_count": 8,
     "metadata": {},
     "output_type": "execute_result"
    }
   ],
   "source": [
    "Major['Major'].mode()"
   ]
  },
  {
   "cell_type": "code",
   "execution_count": 9,
   "metadata": {},
   "outputs": [
    {
     "data": {
      "text/plain": [
       "Management    5\n",
       "Accounting    4\n",
       "Economics     4\n",
       "Finance       4\n",
       "History       4\n",
       "Undecided     3\n",
       "Statistics    3\n",
       "Psychology    3\n",
       "Name: Major, dtype: int64"
      ]
     },
     "execution_count": 9,
     "metadata": {},
     "output_type": "execute_result"
    }
   ],
   "source": [
    "Major['Major'].value_counts()"
   ]
  },
  {
   "cell_type": "markdown",
   "metadata": {},
   "source": [
    "<h3>Medianen för en datamängd är det värde som hamnar \"i mitten\" om värdena ordnas efter storlek</h3>"
   ]
  },
  {
   "cell_type": "markdown",
   "metadata": {},
   "source": [
    "Exempel: Vad är medianen för datamängden {8, 3, 6, 7, 9}?"
   ]
  },
  {
   "cell_type": "markdown",
   "metadata": {},
   "source": [
    "Lösning: I storleksordning: 3,6,7,8,9 så medianen är 7"
   ]
  },
  {
   "cell_type": "markdown",
   "metadata": {},
   "source": [
    "Exempel: Vad är medianen för datamängden {8, 3, 7, 9}?"
   ]
  },
  {
   "cell_type": "markdown",
   "metadata": {},
   "source": [
    "Lösning: I storleksordning: 3,7,8,9 så medianen är medelvärdet av 7 och 8, alltså 7.5"
   ]
  },
  {
   "cell_type": "markdown",
   "metadata": {},
   "source": [
    "Vad är medianen av timlön (Wage) i datamängden 'Gig'?"
   ]
  },
  {
   "cell_type": "markdown",
   "metadata": {},
   "source": [
    "Direkt på \"framen\" med Pandas:"
   ]
  },
  {
   "cell_type": "code",
   "execution_count": 10,
   "metadata": {},
   "outputs": [
    {
     "data": {
      "text/plain": [
       "41.88"
      ]
     },
     "execution_count": 10,
     "metadata": {},
     "output_type": "execute_result"
    }
   ],
   "source": [
    "Gig['Wage'].median()"
   ]
  },
  {
   "cell_type": "markdown",
   "metadata": {},
   "source": [
    "<h3>Med numpy:</h3>"
   ]
  },
  {
   "cell_type": "code",
   "execution_count": 11,
   "metadata": {},
   "outputs": [
    {
     "data": {
      "text/plain": [
       "41.88"
      ]
     },
     "execution_count": 11,
     "metadata": {},
     "output_type": "execute_result"
    }
   ],
   "source": [
    "np.median(Gig['Wage'])"
   ]
  },
  {
   "cell_type": "markdown",
   "metadata": {},
   "source": [
    "Medelvärdet för en datamängd är \"snittet\", alltså summan av alla värden dividerat med hur många värden som finns i datamängden\n",
    "\n",
    "$${\\bar x}=\\frac{1}{n}\\sum_{i=1}^{n}x_i=\\frac{x_1+\\dots+x_n}{n}$$\n",
    "    "
   ]
  },
  {
   "cell_type": "markdown",
   "metadata": {},
   "source": [
    "Exempel: Vad är medelvärdet för datamängden {8, 3, 6, 7, 9}?"
   ]
  },
  {
   "cell_type": "markdown",
   "metadata": {},
   "source": [
    "Lösning:\n",
    "\n",
    "$$\\frac{8+3+6+7+9}{5}=\\frac{33}{5}=6.6$$"
   ]
  },
  {
   "cell_type": "markdown",
   "metadata": {},
   "source": [
    "Vad är medelvärdet av timlön (Wage) i datamängden 'Gig'?"
   ]
  },
  {
   "cell_type": "markdown",
   "metadata": {},
   "source": [
    "Direkt på \\\"framen\\\" med Pandas:"
   ]
  },
  {
   "cell_type": "code",
   "execution_count": 14,
   "metadata": {},
   "outputs": [
    {
     "data": {
      "text/plain": [
       "40.08"
      ]
     },
     "execution_count": 14,
     "metadata": {},
     "output_type": "execute_result"
    }
   ],
   "source": [
    "Gig['Wage'].mean()"
   ]
  },
  {
   "cell_type": "code",
   "execution_count": 15,
   "metadata": {},
   "outputs": [
    {
     "data": {
      "text/plain": [
       "40.08"
      ]
     },
     "execution_count": 15,
     "metadata": {},
     "output_type": "execute_result"
    }
   ],
   "source": [
    "Gig['Wage'].mean().round(2)"
   ]
  },
  {
   "cell_type": "markdown",
   "metadata": {},
   "source": [
    "<h3>Med numpy:</h3>"
   ]
  },
  {
   "cell_type": "code",
   "execution_count": 13,
   "metadata": {},
   "outputs": [
    {
     "data": {
      "text/plain": [
       "40.08279801324504"
      ]
     },
     "execution_count": 13,
     "metadata": {},
     "output_type": "execute_result"
    }
   ],
   "source": [
    "np.mean(Gig['Wage'])"
   ]
  },
  {
   "cell_type": "markdown",
   "metadata": {},
   "source": [
    "<h3>Reflektion: Kan man räkna typvärden, medianer och medelvärden för alla datatyper?</h3>"
   ]
  },
  {
   "cell_type": "markdown",
   "metadata": {},
   "source": [
    "<h1>Spridningsmått</h1>"
   ]
  },
  {
   "cell_type": "markdown",
   "metadata": {},
   "source": [
    "Variansen för ett stickprov ges av:\n",
    "\n",
    "$$s^2=\\frac{1}{n-1}\\sum_{i=1}^{n}\\left(x_i-{\\bar x}\\right)^2=\\frac{1}{n-1}\\left(\\sum_{i=1}^{n}x_i^2-n\\left({\\bar x}\\right)^2\\right)$$\n"
   ]
  },
  {
   "cell_type": "markdown",
   "metadata": {},
   "source": [
    "Exempel: Vad är variansen för stickprovet 8, 3, 7, 9 ?"
   ]
  },
  {
   "cell_type": "markdown",
   "metadata": {},
   "source": [
    "Lösning: Medelvärdet är 6.75 så vi får att variansen är:\n",
    "    \n",
    "$$\\frac{1}{4-1}\\left(8^2+3^2+7^2+9^2-4\\cdot 6.75^2\\right)\\approx 6.9$$\n",
    "  "
   ]
  },
  {
   "cell_type": "markdown",
   "metadata": {},
   "source": [
    "<h3>Reflektion: Vilken enhet får variansen om enheten på data är kronor?</h3>"
   ]
  },
  {
   "cell_type": "markdown",
   "metadata": {},
   "source": [
    "<h3>Vad är stickprovsvariansen av timlön (Wage) i datamängden 'Gig'?</h3>"
   ]
  },
  {
   "cell_type": "markdown",
   "metadata": {},
   "source": [
    "Direkt på \"framen\" med Pandas:"
   ]
  },
  {
   "cell_type": "code",
   "execution_count": 14,
   "metadata": {},
   "outputs": [
    {
     "data": {
      "text/plain": [
       "50.32101885797284"
      ]
     },
     "execution_count": 14,
     "metadata": {},
     "output_type": "execute_result"
    }
   ],
   "source": [
    "Gig['Wage'].var()"
   ]
  },
  {
   "cell_type": "markdown",
   "metadata": {},
   "source": [
    "<h3>Med numpy:</h3>"
   ]
  },
  {
   "cell_type": "code",
   "execution_count": 16,
   "metadata": {},
   "outputs": [
    {
     "data": {
      "text/plain": [
       "50.32101885797284"
      ]
     },
     "execution_count": 16,
     "metadata": {},
     "output_type": "execute_result"
    }
   ],
   "source": [
    "np.var(Gig['Wage'],ddof=1)"
   ]
  },
  {
   "cell_type": "markdown",
   "metadata": {},
   "source": [
    "<h3>Reflektion: Vad gör \"ddof\"?</h3>"
   ]
  },
  {
   "cell_type": "markdown",
   "metadata": {},
   "source": [
    "Standardavvikelsen är roten ur variansen:\n",
    "\n",
    "$$s=\\sqrt{s^2}$$"
   ]
  },
  {
   "cell_type": "markdown",
   "metadata": {},
   "source": [
    "<h3>Vad är stickprovsstandardavvikelsen av timlön (Wage) i datamängden 'Gig'?</h3>"
   ]
  },
  {
   "cell_type": "markdown",
   "metadata": {},
   "source": [
    "<h3>Direkt på \"framen\" med Pandas:</h3>"
   ]
  },
  {
   "cell_type": "code",
   "execution_count": 17,
   "metadata": {},
   "outputs": [
    {
     "data": {
      "text/plain": [
       "7.093730954721418"
      ]
     },
     "execution_count": 17,
     "metadata": {},
     "output_type": "execute_result"
    }
   ],
   "source": [
    "Gig['Wage'].std()"
   ]
  },
  {
   "cell_type": "markdown",
   "metadata": {},
   "source": [
    "<h3>Med numpy:</h3>"
   ]
  },
  {
   "cell_type": "code",
   "execution_count": 18,
   "metadata": {},
   "outputs": [
    {
     "data": {
      "text/plain": [
       "7.093730954721418"
      ]
     },
     "execution_count": 18,
     "metadata": {},
     "output_type": "execute_result"
    }
   ],
   "source": [
    "np.std(Gig['Wage'],ddof=1)"
   ]
  },
  {
   "cell_type": "markdown",
   "metadata": {},
   "source": [
    "Medelabsolutavvikelsen för en datamängd ges av:\n",
    "\n",
    "$$MAD=\\frac{1}{n}\\sum_{i=1}^{n}\\lvert x_i - {\\bar x}\\rvert$$\n"
   ]
  },
  {
   "cell_type": "markdown",
   "metadata": {},
   "source": [
    "Exempel: Vad är MAD för datamängden {8, 3, 7, 9}?"
   ]
  },
  {
   "cell_type": "markdown",
   "metadata": {},
   "source": [
    "Lösning: Medelvärdet är 6.75 så vi får att MAD är:\n",
    "\n",
    "$$\\frac{1}{4}\\left(\\lvert 8 - 6.75 \\rvert + \\lvert 3 - 6.75 \\rvert + \\lvert 7 - 6.75 \\rvert + \\lvert 9 - 6.75 \\rvert\\right)=\\frac{1.25+3.75+0.25+2.25}{4}\\approx 1.9$$"
   ]
  },
  {
   "cell_type": "markdown",
   "metadata": {},
   "source": [
    "<h3>Med Pandas:</h3>"
   ]
  },
  {
   "cell_type": "code",
   "execution_count": 19,
   "metadata": {},
   "outputs": [
    {
     "data": {
      "text/plain": [
       "0    1.875\n",
       "dtype: float64"
      ]
     },
     "execution_count": 19,
     "metadata": {},
     "output_type": "execute_result"
    }
   ],
   "source": [
    "pd.DataFrame([8, 3, 7, 9]).mad()"
   ]
  },
  {
   "cell_type": "markdown",
   "metadata": {},
   "source": [
    "<h1>En bra funktion i Pandas</h1>"
   ]
  },
  {
   "cell_type": "markdown",
   "metadata": {},
   "source": [
    "Kan man få fram mer än ett deskriptivt mått från en \"frame\", t ex för \"Wage\" i \"Gig\"?"
   ]
  },
  {
   "cell_type": "code",
   "execution_count": 20,
   "metadata": {},
   "outputs": [
    {
     "data": {
      "text/plain": [
       "count    604.000000\n",
       "mean      40.082798\n",
       "std        7.093731\n",
       "min       24.280000\n",
       "25%       34.190000\n",
       "50%       41.880000\n",
       "75%       45.865000\n",
       "max       51.000000\n",
       "Name: Wage, dtype: float64"
      ]
     },
     "execution_count": 20,
     "metadata": {},
     "output_type": "execute_result"
    }
   ],
   "source": [
    "Gig['Wage'].describe()"
   ]
  },
  {
   "cell_type": "markdown",
   "metadata": {},
   "source": [
    "<h3>Reflektion: \"50%\" är medianen</h3>"
   ]
  },
  {
   "cell_type": "markdown",
   "metadata": {},
   "source": [
    "<h1>Medelvärde, median och skevhet</h1>"
   ]
  },
  {
   "cell_type": "code",
   "execution_count": 22,
   "metadata": {},
   "outputs": [
    {
     "data": {
      "image/png": "[encoded data removed]",
      "text/plain": [
       "<Figure size 1080x720 with 1 Axes>"
      ]
     },
     "metadata": {},
     "output_type": "display_data"
    }
   ],
   "source": [
    "import seaborn as sns \n",
    "sns.set_theme() \n",
    "    \n",
    "bins = np.linspace(24, 52, 7) \n",
    "    \n",
    "plt.rcParams[\"figure.figsize\"] = (15,10) \n",
    "plt.hist(Gig['Wage'], bins, \n",
    "             density=False, \n",
    "             histtype='bar' ,\n",
    "             facecolor='b' ,\n",
    "             alpha=0.5) \n",
    "    \n",
    "    \n",
    "plt.title(\"Fördelning för timlöner\",fontsize=20) \n",
    "plt.tick_params(axis='both', which='major', labelsize=20) \n",
    "plt.xlabel('Timlön i dollar',fontsize=16) \n",
    "plt.ylabel('Antal löntagare',fontsize=16) \n",
    "plt.xticks(fontsize=16,ha=\"left\") \n",
    "plt.yticks(fontsize=16) \n",
    "plt.show()"
   ]
  },
  {
   "cell_type": "markdown",
   "metadata": {},
   "source": [
    "Fördelningen är skev åt vänster, alltså vänstersvanden är tyngra än högersvansner, eller medelvärdet är mindre än medianen\n"
   ]
  },
  {
   "cell_type": "markdown",
   "metadata": {},
   "source": [
    "Man kan mäta skevheten med"
   ]
  },
  {
   "cell_type": "markdown",
   "metadata": {},
   "source": [
    "$$sum_{i=1}^{n}\\left(\\frac{x_i-{\\bar x}}{s}\\right)^3$$"
   ]
  },
  {
   "cell_type": "markdown",
   "metadata": {},
   "source": [
    "Talet blir negativt om fördelningen är skev åt vänster och positivt om fördelningen är skev åt höger"
   ]
  },
  {
   "cell_type": "markdown",
   "metadata": {},
   "source": [
    "<h3>Med Pandas:</h3>"
   ]
  },
  {
   "cell_type": "code",
   "execution_count": 29,
   "metadata": {},
   "outputs": [
    {
     "data": {
      "text/plain": [
       "-0.5587007332243544"
      ]
     },
     "execution_count": 29,
     "metadata": {},
     "output_type": "execute_result"
    }
   ],
   "source": [
    "Gig['Wage'].skew()"
   ]
  },
  {
   "cell_type": "markdown",
   "metadata": {},
   "source": [
    "<h3>Med Scipy Stats:</h3>"
   ]
  },
  {
   "cell_type": "code",
   "execution_count": 30,
   "metadata": {},
   "outputs": [
    {
     "data": {
      "text/plain": [
       "-0.5573122731308094"
      ]
     },
     "execution_count": 30,
     "metadata": {},
     "output_type": "execute_result"
    }
   ],
   "source": [
    "scs.skew(Gig['Wage'])"
   ]
  },
  {
   "cell_type": "markdown",
   "metadata": {},
   "source": [
    "<h3>Hmmmm???</h3>"
   ]
  },
  {
   "cell_type": "code",
   "execution_count": 31,
   "metadata": {},
   "outputs": [
    {
     "data": {
      "text/plain": [
       "-0.5587007332243545"
      ]
     },
     "execution_count": 31,
     "metadata": {},
     "output_type": "execute_result"
    }
   ],
   "source": [
    "scs.skew(Gig['Wage'],bias=False)"
   ]
  },
  {
   "cell_type": "markdown",
   "metadata": {},
   "source": [
    "<h1>Klasser och stapeldiagram</h1>"
   ]
  },
  {
   "cell_type": "markdown",
   "metadata": {},
   "source": [
    "Vi kanske vill göra ett stapeldiagram av 'Job' i 'Gig'. Hur kan man göra det i Python?"
   ]
  },
  {
   "cell_type": "code",
   "execution_count": 35,
   "metadata": {},
   "outputs": [
    {
     "data": {
      "text/html": [
       "<div>\n",
       "<style scoped>\n",
       "    .dataframe tbody tr th:only-of-type {\n",
       "        vertical-align: middle;\n",
       "    }\n",
       "\n",
       "    .dataframe tbody tr th {\n",
       "        vertical-align: top;\n",
       "    }\n",
       "\n",
       "    .dataframe thead th {\n",
       "        text-align: right;\n",
       "    }\n",
       "</style>\n",
       "<table border=\"1\" class=\"dataframe\">\n",
       "  <thead>\n",
       "    <tr style=\"text-align: right;\">\n",
       "      <th></th>\n",
       "      <th>EmployeeID</th>\n",
       "      <th>Wage</th>\n",
       "      <th>Industry</th>\n",
       "      <th>Job</th>\n",
       "    </tr>\n",
       "  </thead>\n",
       "  <tbody>\n",
       "    <tr>\n",
       "      <th>0</th>\n",
       "      <td>1</td>\n",
       "      <td>32.81</td>\n",
       "      <td>Construction</td>\n",
       "      <td>Analyst</td>\n",
       "    </tr>\n",
       "    <tr>\n",
       "      <th>1</th>\n",
       "      <td>2</td>\n",
       "      <td>46.00</td>\n",
       "      <td>Automotive</td>\n",
       "      <td>Engineer</td>\n",
       "    </tr>\n",
       "    <tr>\n",
       "      <th>2</th>\n",
       "      <td>3</td>\n",
       "      <td>43.13</td>\n",
       "      <td>Construction</td>\n",
       "      <td>Sales Rep</td>\n",
       "    </tr>\n",
       "    <tr>\n",
       "      <th>3</th>\n",
       "      <td>4</td>\n",
       "      <td>48.09</td>\n",
       "      <td>Automotive</td>\n",
       "      <td>Other</td>\n",
       "    </tr>\n",
       "    <tr>\n",
       "      <th>4</th>\n",
       "      <td>5</td>\n",
       "      <td>43.62</td>\n",
       "      <td>Automotive</td>\n",
       "      <td>Accountant</td>\n",
       "    </tr>\n",
       "  </tbody>\n",
       "</table>\n",
       "</div>"
      ],
      "text/plain": [
       "   EmployeeID   Wage      Industry         Job\n",
       "0           1  32.81  Construction     Analyst\n",
       "1           2  46.00    Automotive    Engineer\n",
       "2           3  43.13  Construction   Sales Rep\n",
       "3           4  48.09    Automotive       Other\n",
       "4           5  43.62    Automotive  Accountant"
      ]
     },
     "execution_count": 35,
     "metadata": {},
     "output_type": "execute_result"
    }
   ],
   "source": [
    "Gig.head()"
   ]
  },
  {
   "cell_type": "code",
   "execution_count": 45,
   "metadata": {},
   "outputs": [
    {
     "data": {
      "image/png": "[encoded data removed]",
      "text/plain": [
       "<Figure size 1080x720 with 1 Axes>"
      ]
     },
     "metadata": {},
     "output_type": "display_data"
    }
   ],
   "source": [
    "Gig['Job'].value_counts().plot(kind='bar', x='Job')\n",
    "plt.title(\"Fördelning mellan jobb\",fontsize=20) \n",
    "plt.tick_params(axis='both', which='major', labelsize=20) \n",
    "plt.xlabel('Jobb',fontsize=16) \n",
    "plt.ylabel('Antal arbetande',fontsize=16) \n",
    "#plt.xticks(fontsize=16,ha=\"left\") \n",
    "plt.xticks(fontsize=16,rotation=-45,ha=\"left\")\n",
    "plt.yticks(fontsize=16) \n",
    "plt.show()"
   ]
  },
  {
   "cell_type": "markdown",
   "metadata": {},
   "source": [
    "Om man vill gruppera på industrisektorer då? En lösning är att göra en korstabell med Pandas och sedan plotta den"
   ]
  },
  {
   "cell_type": "code",
   "execution_count": 23,
   "metadata": {},
   "outputs": [
    {
     "data": {
      "image/png": "[encoded data removed]",
      "text/plain": [
       "<Figure size 1080x720 with 1 Axes>"
      ]
     },
     "metadata": {},
     "output_type": "display_data"
    }
   ],
   "source": [
    "#pd.crosstab(Gig['Industry'],Gig['Job']).plot(kind='bar',stacked=True)\n",
    "\n",
    "pd.crosstab(Gig['Industry'],Gig['Job']).plot(kind='bar',stacked=False)\n",
    "\n",
    "\n",
    "plt.title(\"Fördelning mellan jobb\",fontsize=20) \n",
    "plt.tick_params(axis='both', which='major', labelsize=20) \n",
    "plt.xlabel('Industry',fontsize=16) \n",
    "plt.ylabel('Antal arbetande',fontsize=16) \n",
    "#plt.xticks(fontsize=16,ha=\"left\") \n",
    "plt.xticks(fontsize=16,rotation=-45,ha=\"left\")\n",
    "plt.yticks(fontsize=16) \n",
    "plt.legend(fontsize=16) \n",
    "plt.show()"
   ]
  },
  {
   "cell_type": "code",
   "execution_count": 54,
   "metadata": {},
   "outputs": [
    {
     "data": {
      "text/html": [
       "<div>\n",
       "<style scoped>\n",
       "    .dataframe tbody tr th:only-of-type {\n",
       "        vertical-align: middle;\n",
       "    }\n",
       "\n",
       "    .dataframe tbody tr th {\n",
       "        vertical-align: top;\n",
       "    }\n",
       "\n",
       "    .dataframe thead th {\n",
       "        text-align: right;\n",
       "    }\n",
       "</style>\n",
       "<table border=\"1\" class=\"dataframe\">\n",
       "  <thead>\n",
       "    <tr style=\"text-align: right;\">\n",
       "      <th>Job</th>\n",
       "      <th>Accountant</th>\n",
       "      <th>Analyst</th>\n",
       "      <th>Consultant</th>\n",
       "      <th>Engineer</th>\n",
       "      <th>Other</th>\n",
       "      <th>Programmer</th>\n",
       "      <th>Sales Rep</th>\n",
       "    </tr>\n",
       "    <tr>\n",
       "      <th>Industry</th>\n",
       "      <th></th>\n",
       "      <th></th>\n",
       "      <th></th>\n",
       "      <th></th>\n",
       "      <th></th>\n",
       "      <th></th>\n",
       "      <th></th>\n",
       "    </tr>\n",
       "  </thead>\n",
       "  <tbody>\n",
       "    <tr>\n",
       "      <th>Automotive</th>\n",
       "      <td>25</td>\n",
       "      <td>0</td>\n",
       "      <td>9</td>\n",
       "      <td>120</td>\n",
       "      <td>14</td>\n",
       "      <td>11</td>\n",
       "      <td>7</td>\n",
       "    </tr>\n",
       "    <tr>\n",
       "      <th>Construction</th>\n",
       "      <td>45</td>\n",
       "      <td>1</td>\n",
       "      <td>53</td>\n",
       "      <td>62</td>\n",
       "      <td>67</td>\n",
       "      <td>65</td>\n",
       "      <td>61</td>\n",
       "    </tr>\n",
       "    <tr>\n",
       "      <th>Tech</th>\n",
       "      <td>10</td>\n",
       "      <td>0</td>\n",
       "      <td>5</td>\n",
       "      <td>7</td>\n",
       "      <td>5</td>\n",
       "      <td>4</td>\n",
       "      <td>7</td>\n",
       "    </tr>\n",
       "  </tbody>\n",
       "</table>\n",
       "</div>"
      ],
      "text/plain": [
       "Job           Accountant  Analyst  Consultant  Engineer  Other  Programmer  \\\n",
       "Industry                                                                     \n",
       "Automotive            25        0           9       120     14          11   \n",
       "Construction          45        1          53        62     67          65   \n",
       "Tech                  10        0           5         7      5           4   \n",
       "\n",
       "Job           Sales Rep  \n",
       "Industry                 \n",
       "Automotive            7  \n",
       "Construction         61  \n",
       "Tech                  7  "
      ]
     },
     "execution_count": 54,
     "metadata": {},
     "output_type": "execute_result"
    }
   ],
   "source": [
    "pd.crosstab(Gig['Industry'],Gig['Job'])"
   ]
  },
  {
   "cell_type": "markdown",
   "metadata": {},
   "source": [
    "<h1>Deskriptiv statistik för grupperade data</h1>"
   ]
  },
  {
   "cell_type": "markdown",
   "metadata": {},
   "source": [
    "Antag att vi gjort en undersökning på 200 hushåll och fått reda på att antal medlemmar i hushållet fördelar sig som:"
   ]
  },
  {
   "cell_type": "code",
   "execution_count": 86,
   "metadata": {},
   "outputs": [
    {
     "data": {
      "text/html": [
       "<div>\n",
       "<style scoped>\n",
       "    .dataframe tbody tr th:only-of-type {\n",
       "        vertical-align: middle;\n",
       "    }\n",
       "\n",
       "    .dataframe tbody tr th {\n",
       "        vertical-align: top;\n",
       "    }\n",
       "\n",
       "    .dataframe thead th {\n",
       "        text-align: right;\n",
       "    }\n",
       "</style>\n",
       "<table border=\"1\" class=\"dataframe\">\n",
       "  <thead>\n",
       "    <tr style=\"text-align: right;\">\n",
       "      <th></th>\n",
       "      <th>Antal Hushåll</th>\n",
       "    </tr>\n",
       "    <tr>\n",
       "      <th>Antal medlemmar</th>\n",
       "      <th></th>\n",
       "    </tr>\n",
       "  </thead>\n",
       "  <tbody>\n",
       "    <tr>\n",
       "      <th>5</th>\n",
       "      <td>45</td>\n",
       "    </tr>\n",
       "    <tr>\n",
       "      <th>4</th>\n",
       "      <td>41</td>\n",
       "    </tr>\n",
       "    <tr>\n",
       "      <th>3</th>\n",
       "      <td>40</td>\n",
       "    </tr>\n",
       "    <tr>\n",
       "      <th>2</th>\n",
       "      <td>39</td>\n",
       "    </tr>\n",
       "    <tr>\n",
       "      <th>1</th>\n",
       "      <td>35</td>\n",
       "    </tr>\n",
       "  </tbody>\n",
       "</table>\n",
       "</div>"
      ],
      "text/plain": [
       "                 Antal Hushåll\n",
       "Antal medlemmar               \n",
       "5                           45\n",
       "4                           41\n",
       "3                           40\n",
       "2                           39\n",
       "1                           35"
      ]
     },
     "execution_count": 86,
     "metadata": {},
     "output_type": "execute_result"
    }
   ],
   "source": [
    "df=pd.DataFrame(Customers['HHSize'].value_counts().rename('Antal Hushåll'))\n",
    "\n",
    "\n",
    "\n",
    "df.index=df.index.set_names(['Antal medlemmar'])\n",
    "\n",
    "df"
   ]
  },
  {
   "cell_type": "markdown",
   "metadata": {},
   "source": [
    "<h3>Vad är medelvärde, median och standardavvikelse för dessa (grupperade) data?</h3>"
   ]
  },
  {
   "cell_type": "markdown",
   "metadata": {},
   "source": [
    "Vi tar det \"lättaste\" först, medianen. \n",
    "Det finns 200 observationer så medianen är 3 eftersom om vi skulle ordna data i storleksordning \n",
    "skulle talen på position 100 och 101 vara 3"
   ]
  },
  {
   "cell_type": "markdown",
   "metadata": {},
   "source": [
    "Medelvärdet beräknar vi enligt\n",
    "$${\\bar x}=\\frac{\\sum_{i=1}^n f_i x_i}{\\sum_{i=1}^n f_i}=\\frac{45\\cdot 5+41\\cdot 4+40\\cdot 3+39\\cdot 2+35\\cdot 1}{45+41+40+39+35}=3.11$$"
   ]
  },
  {
   "cell_type": "markdown",
   "metadata": {},
   "source": [
    "För att få standardavvikelsen beräknar vi först variansen enligt</h3>\n",
    "$$s^2=\\frac{\\sum_{i=1}^n f_i \\left(x_i-{\\bar x}\\right)^2}{\\sum_{i=1}^n f_i-1}=\n",
    "\\frac{\\sum_{i=1}^n f_i x_i^2- \\sum_{i=1}^n f_i\\left({\\bar x}\\right)^2}{\\sum_{i=1}^n f_i -1}\n",
    "=\\frac{45\\cdot 5^2+41\\cdot 4^2+40\\cdot 3^2+39\\cdot 2^2+35\\cdot 1^2-200\\cdot 3.11^2}{199}=2.00$$\n",
    "\n",
    "Standardavvikelsen är alltså $$\\sqrt{2.00}\\approx 1.41$$"
   ]
  }
 ],
 "metadata": {
  "kernelspec": {
   "display_name": "Python 3",
   "language": "python",
   "name": "python3"
  },
  "language_info": {
   "codemirror_mode": {
    "name": "ipython",
    "version": 3
   },
   "file_extension": ".py",
   "mimetype": "text/x-python",
   "name": "python",
   "nbconvert_exporter": "python",
   "pygments_lexer": "ipython3",
   "version": "3.9.6"
  }
 },
 "nbformat": 4,
 "nbformat_minor": 4
}

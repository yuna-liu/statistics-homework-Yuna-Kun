{
 "cells": [
  {
   "cell_type": "markdown",
   "metadata": {},
   "source": [
    "<h1>Kapitel 13 Mer om Regressionsanalys</h1>"
   ]
  },
  {
   "cell_type": "code",
   "execution_count": 18,
   "metadata": {},
   "outputs": [],
   "source": [
    "#importera paket och exempeldata \n",
    "import numpy as np\n",
    "import pandas as pd\n",
    "import matplotlib.pyplot as plt\n",
    "import scipy.stats as scs \n",
    "from scipy.stats import t\n",
    "from scipy.stats import norm\n",
    "from statsmodels.stats import proportion\n",
    "import statsmodels.api as sm\n",
    "from statsmodels.formula.api import ols\n",
    "\n",
    "Debt_Payments = None\n",
    "with pd.ExcelFile(r\"\\\\home.gu.gu.se\\home-XS$\\xsumat\\Documents\\ITHS\\Data\\Kap12.xlsx\") as reader:\n",
    "        Debt_Payments=pd.read_excel(reader, sheet_name='Debt_Payments')"
   ]
  },
  {
   "cell_type": "code",
   "execution_count": 19,
   "metadata": {},
   "outputs": [
    {
     "data": {
      "text/html": [
       "<div>\n",
       "<style scoped>\n",
       "    .dataframe tbody tr th:only-of-type {\n",
       "        vertical-align: middle;\n",
       "    }\n",
       "\n",
       "    .dataframe tbody tr th {\n",
       "        vertical-align: top;\n",
       "    }\n",
       "\n",
       "    .dataframe thead th {\n",
       "        text-align: right;\n",
       "    }\n",
       "</style>\n",
       "<table border=\"1\" class=\"dataframe\">\n",
       "  <thead>\n",
       "    <tr style=\"text-align: right;\">\n",
       "      <th></th>\n",
       "      <th>Metropolitan area</th>\n",
       "      <th>Debt</th>\n",
       "      <th>Income</th>\n",
       "      <th>Unemployment</th>\n",
       "    </tr>\n",
       "  </thead>\n",
       "  <tbody>\n",
       "    <tr>\n",
       "      <th>0</th>\n",
       "      <td>Washington, D.C.</td>\n",
       "      <td>1285</td>\n",
       "      <td>103.5</td>\n",
       "      <td>6.3</td>\n",
       "    </tr>\n",
       "    <tr>\n",
       "      <th>1</th>\n",
       "      <td>Seattle</td>\n",
       "      <td>1135</td>\n",
       "      <td>81.7</td>\n",
       "      <td>8.5</td>\n",
       "    </tr>\n",
       "    <tr>\n",
       "      <th>2</th>\n",
       "      <td>Baltimore</td>\n",
       "      <td>1133</td>\n",
       "      <td>82.2</td>\n",
       "      <td>8.1</td>\n",
       "    </tr>\n",
       "    <tr>\n",
       "      <th>3</th>\n",
       "      <td>Boston</td>\n",
       "      <td>1133</td>\n",
       "      <td>89.5</td>\n",
       "      <td>7.6</td>\n",
       "    </tr>\n",
       "    <tr>\n",
       "      <th>4</th>\n",
       "      <td>Denver</td>\n",
       "      <td>1104</td>\n",
       "      <td>75.9</td>\n",
       "      <td>8.1</td>\n",
       "    </tr>\n",
       "  </tbody>\n",
       "</table>\n",
       "</div>"
      ],
      "text/plain": [
       "  Metropolitan area  Debt  Income  Unemployment\n",
       "0  Washington, D.C.  1285   103.5           6.3\n",
       "1           Seattle  1135    81.7           8.5\n",
       "2         Baltimore  1133    82.2           8.1\n",
       "3            Boston  1133    89.5           7.6\n",
       "4            Denver  1104    75.9           8.1"
      ]
     },
     "execution_count": 19,
     "metadata": {},
     "output_type": "execute_result"
    }
   ],
   "source": [
    "Debt_Payments.head()"
   ]
  },
  {
   "cell_type": "markdown",
   "metadata": {},
   "source": [
    "<h3>Korrelationstest med scipy.stats</h3>"
   ]
  },
  {
   "cell_type": "code",
   "execution_count": 20,
   "metadata": {},
   "outputs": [
    {
     "data": {
      "text/plain": [
       "9.66033097818347e-09"
      ]
     },
     "execution_count": 20,
     "metadata": {},
     "output_type": "execute_result"
    }
   ],
   "source": [
    "r,p=scs.pearsonr(Debt_Payments['Income'],Debt_Payments['Debt'])\n",
    "p"
   ]
  },
  {
   "cell_type": "markdown",
   "metadata": {},
   "source": [
    "<h3>Konfidensintervall och hypotestest för koefficienterna i regressionsmodellen</h3>"
   ]
  },
  {
   "cell_type": "code",
   "execution_count": 37,
   "metadata": {},
   "outputs": [
    {
     "name": "stdout",
     "output_type": "stream",
     "text": [
      "                            OLS Regression Results                            \n",
      "==============================================================================\n",
      "Dep. Variable:                   Debt   R-squared:                       0.753\n",
      "Model:                            OLS   Adj. R-squared:                  0.742\n",
      "Method:                 Least Squares   F-statistic:                     73.00\n",
      "Date:                Mon, 10 Jan 2022   Prob (F-statistic):           9.66e-09\n",
      "Time:                        15:16:58   Log-Likelihood:                -143.68\n",
      "No. Observations:                  26   AIC:                             291.4\n",
      "Df Residuals:                      24   BIC:                             293.9\n",
      "Df Model:                           1                                         \n",
      "Covariance Type:            nonrobust                                         \n",
      "==============================================================================\n",
      "                 coef    std err          t      P>|t|      [0.025      0.975]\n",
      "------------------------------------------------------------------------------\n",
      "Intercept    210.2977     91.339      2.302      0.030      21.784     398.812\n",
      "Income        10.4411      1.222      8.544      0.000       7.919      12.963\n",
      "==============================================================================\n",
      "Omnibus:                        1.807   Durbin-Watson:                   1.457\n",
      "Prob(Omnibus):                  0.405   Jarque-Bera (JB):                1.054\n",
      "Skew:                          -0.056   Prob(JB):                        0.590\n",
      "Kurtosis:                       2.020   Cond. No.                         550.\n",
      "==============================================================================\n",
      "\n",
      "Notes:\n",
      "[1] Standard Errors assume that the covariance matrix of the errors is correctly specified.\n"
     ]
    }
   ],
   "source": [
    "model = ols('Debt ~ Income', data=Debt_Payments).fit()\n",
    "print(model.summary())"
   ]
  },
  {
   "cell_type": "markdown",
   "metadata": {},
   "source": [
    "<h3>Prediktionsintervall in sample-prediktion</h3>"
   ]
  },
  {
   "cell_type": "code",
   "execution_count": 28,
   "metadata": {},
   "outputs": [
    {
     "data": {
      "text/html": [
       "<div>\n",
       "<style scoped>\n",
       "    .dataframe tbody tr th:only-of-type {\n",
       "        vertical-align: middle;\n",
       "    }\n",
       "\n",
       "    .dataframe tbody tr th {\n",
       "        vertical-align: top;\n",
       "    }\n",
       "\n",
       "    .dataframe thead th {\n",
       "        text-align: right;\n",
       "    }\n",
       "</style>\n",
       "<table border=\"1\" class=\"dataframe\">\n",
       "  <thead>\n",
       "    <tr style=\"text-align: right;\">\n",
       "      <th></th>\n",
       "      <th>obs_ci_lower</th>\n",
       "      <th>obs_ci_upper</th>\n",
       "    </tr>\n",
       "  </thead>\n",
       "  <tbody>\n",
       "    <tr>\n",
       "      <th>0</th>\n",
       "      <td>1138.572126</td>\n",
       "      <td>1443.332059</td>\n",
       "    </tr>\n",
       "    <tr>\n",
       "      <th>1</th>\n",
       "      <td>928.893732</td>\n",
       "      <td>1197.778258</td>\n",
       "    </tr>\n",
       "    <tr>\n",
       "      <th>2</th>\n",
       "      <td>933.927514</td>\n",
       "      <td>1203.185581</td>\n",
       "    </tr>\n",
       "    <tr>\n",
       "      <th>3</th>\n",
       "      <td>1006.137120</td>\n",
       "      <td>1283.416114</td>\n",
       "    </tr>\n",
       "    <tr>\n",
       "      <th>4</th>\n",
       "      <td>869.645274</td>\n",
       "      <td>1135.909893</td>\n",
       "    </tr>\n",
       "    <tr>\n",
       "      <th>5</th>\n",
       "      <td>1043.777937</td>\n",
       "      <td>1327.215919</td>\n",
       "    </tr>\n",
       "    <tr>\n",
       "      <th>6</th>\n",
       "      <td>865.500372</td>\n",
       "      <td>1131.701911</td>\n",
       "    </tr>\n",
       "    <tr>\n",
       "      <th>7</th>\n",
       "      <td>840.470398</td>\n",
       "      <td>1106.614578</td>\n",
       "    </tr>\n",
       "    <tr>\n",
       "      <th>8</th>\n",
       "      <td>788.514940</td>\n",
       "      <td>1056.247204</td>\n",
       "    </tr>\n",
       "    <tr>\n",
       "      <th>9</th>\n",
       "      <td>861.347829</td>\n",
       "      <td>1127.501570</td>\n",
       "    </tr>\n",
       "    <tr>\n",
       "      <th>10</th>\n",
       "      <td>894.354620</td>\n",
       "      <td>1161.317853</td>\n",
       "    </tr>\n",
       "    <tr>\n",
       "      <th>11</th>\n",
       "      <td>951.953973</td>\n",
       "      <td>1222.747101</td>\n",
       "    </tr>\n",
       "    <tr>\n",
       "      <th>12</th>\n",
       "      <td>894.354620</td>\n",
       "      <td>1161.317853</td>\n",
       "    </tr>\n",
       "    <tr>\n",
       "      <th>13</th>\n",
       "      <td>826.797566</td>\n",
       "      <td>1093.140536</td>\n",
       "    </tr>\n",
       "    <tr>\n",
       "      <th>14</th>\n",
       "      <td>789.586615</td>\n",
       "      <td>1057.263750</td>\n",
       "    </tr>\n",
       "    <tr>\n",
       "      <th>15</th>\n",
       "      <td>771.304507</td>\n",
       "      <td>1040.046099</td>\n",
       "    </tr>\n",
       "    <tr>\n",
       "      <th>16</th>\n",
       "      <td>820.459838</td>\n",
       "      <td>1086.948938</td>\n",
       "    </tr>\n",
       "    <tr>\n",
       "      <th>17</th>\n",
       "      <td>802.410000</td>\n",
       "      <td>1069.499018</td>\n",
       "    </tr>\n",
       "    <tr>\n",
       "      <th>18</th>\n",
       "      <td>755.061802</td>\n",
       "      <td>1024.965488</td>\n",
       "    </tr>\n",
       "    <tr>\n",
       "      <th>19</th>\n",
       "      <td>792.798821</td>\n",
       "      <td>1060.316207</td>\n",
       "    </tr>\n",
       "    <tr>\n",
       "      <th>20</th>\n",
       "      <td>789.586615</td>\n",
       "      <td>1057.263750</td>\n",
       "    </tr>\n",
       "    <tr>\n",
       "      <th>21</th>\n",
       "      <td>701.292460</td>\n",
       "      <td>976.411997</td>\n",
       "    </tr>\n",
       "    <tr>\n",
       "      <th>22</th>\n",
       "      <td>805.605224</td>\n",
       "      <td>1072.568457</td>\n",
       "    </tr>\n",
       "    <tr>\n",
       "      <th>23</th>\n",
       "      <td>751.800845</td>\n",
       "      <td>1021.961782</td>\n",
       "    </tr>\n",
       "    <tr>\n",
       "      <th>24</th>\n",
       "      <td>692.413397</td>\n",
       "      <td>968.585291</td>\n",
       "    </tr>\n",
       "    <tr>\n",
       "      <th>25</th>\n",
       "      <td>732.149188</td>\n",
       "      <td>1004.025459</td>\n",
       "    </tr>\n",
       "  </tbody>\n",
       "</table>\n",
       "</div>"
      ],
      "text/plain": [
       "    obs_ci_lower  obs_ci_upper\n",
       "0    1138.572126   1443.332059\n",
       "1     928.893732   1197.778258\n",
       "2     933.927514   1203.185581\n",
       "3    1006.137120   1283.416114\n",
       "4     869.645274   1135.909893\n",
       "5    1043.777937   1327.215919\n",
       "6     865.500372   1131.701911\n",
       "7     840.470398   1106.614578\n",
       "8     788.514940   1056.247204\n",
       "9     861.347829   1127.501570\n",
       "10    894.354620   1161.317853\n",
       "11    951.953973   1222.747101\n",
       "12    894.354620   1161.317853\n",
       "13    826.797566   1093.140536\n",
       "14    789.586615   1057.263750\n",
       "15    771.304507   1040.046099\n",
       "16    820.459838   1086.948938\n",
       "17    802.410000   1069.499018\n",
       "18    755.061802   1024.965488\n",
       "19    792.798821   1060.316207\n",
       "20    789.586615   1057.263750\n",
       "21    701.292460    976.411997\n",
       "22    805.605224   1072.568457\n",
       "23    751.800845   1021.961782\n",
       "24    692.413397    968.585291\n",
       "25    732.149188   1004.025459"
      ]
     },
     "execution_count": 28,
     "metadata": {},
     "output_type": "execute_result"
    }
   ],
   "source": [
    "predictions = model.get_prediction(Debt_Payments['Income'])\n",
    "frame=predictions.summary_frame(alpha=0.05)\n",
    "frame[['obs_ci_lower','obs_ci_upper']]"
   ]
  },
  {
   "cell_type": "code",
   "execution_count": 33,
   "metadata": {},
   "outputs": [
    {
     "data": {
      "image/png": "[encoded data removed]",
      "text/plain": [
       "<Figure size 432x288 with 1 Axes>"
      ]
     },
     "metadata": {
      "needs_background": "light"
     },
     "output_type": "display_data"
    }
   ],
   "source": [
    "fig, ax = plt.subplots()\n",
    "ax.plot(Debt_Payments['Income'],Debt_Payments['Debt'], \"o\", label=\"Data\")\n",
    "ax.plot(Debt_Payments['Income'], ypred, \"r\", label=\"OLS prediction\")\n",
    "ax.plot(Debt_Payments['Income'], frame['obs_ci_lower'], \"r--\", label=\"lower pred lim\")\n",
    "ax.plot(Debt_Payments['Income'], frame['obs_ci_upper'], \"r--\", label=\"upper pred lim\")\n",
    "ax.legend(loc=\"best\")\n",
    "plt.show()"
   ]
  },
  {
   "cell_type": "markdown",
   "metadata": {},
   "source": [
    "<h3>Prediktionsintervall out of sample-prediktion</h3>"
   ]
  },
  {
   "cell_type": "code",
   "execution_count": 54,
   "metadata": {},
   "outputs": [
    {
     "data": {
      "text/html": [
       "<div>\n",
       "<style scoped>\n",
       "    .dataframe tbody tr th:only-of-type {\n",
       "        vertical-align: middle;\n",
       "    }\n",
       "\n",
       "    .dataframe tbody tr th {\n",
       "        vertical-align: top;\n",
       "    }\n",
       "\n",
       "    .dataframe thead th {\n",
       "        text-align: right;\n",
       "    }\n",
       "</style>\n",
       "<table border=\"1\" class=\"dataframe\">\n",
       "  <thead>\n",
       "    <tr style=\"text-align: right;\">\n",
       "      <th></th>\n",
       "      <th>obs_ci_lower</th>\n",
       "      <th>obs_ci_upper</th>\n",
       "    </tr>\n",
       "  </thead>\n",
       "  <tbody>\n",
       "    <tr>\n",
       "      <th>0</th>\n",
       "      <td>1030.337277</td>\n",
       "      <td>1311.421483</td>\n",
       "    </tr>\n",
       "    <tr>\n",
       "      <th>1</th>\n",
       "      <td>1133.962298</td>\n",
       "      <td>1437.500782</td>\n",
       "    </tr>\n",
       "    <tr>\n",
       "      <th>2</th>\n",
       "      <td>1970.337401</td>\n",
       "      <td>2668.464549</td>\n",
       "    </tr>\n",
       "  </tbody>\n",
       "</table>\n",
       "</div>"
      ],
      "text/plain": [
       "   obs_ci_lower  obs_ci_upper\n",
       "0   1030.337277   1311.421483\n",
       "1   1133.962298   1437.500782\n",
       "2   1970.337401   2668.464549"
      ]
     },
     "execution_count": 54,
     "metadata": {},
     "output_type": "execute_result"
    }
   ],
   "source": [
    "\n",
    "Income_new=pd.DataFrame([92,103,202], columns=['Income'])\n",
    "predictions = model.get_prediction(Income_new)\n",
    "frame=predictions.summary_frame(alpha=0.05)\n",
    "frame[['obs_ci_lower','obs_ci_upper']]"
   ]
  },
  {
   "cell_type": "markdown",
   "metadata": {},
   "source": [
    "<h3>Multipelregression</h3>"
   ]
  },
  {
   "cell_type": "code",
   "execution_count": 55,
   "metadata": {},
   "outputs": [
    {
     "name": "stdout",
     "output_type": "stream",
     "text": [
      "                            OLS Regression Results                            \n",
      "==============================================================================\n",
      "Dep. Variable:                   Debt   R-squared:                       0.753\n",
      "Model:                            OLS   Adj. R-squared:                  0.731\n",
      "Method:                 Least Squares   F-statistic:                     35.00\n",
      "Date:                Mon, 10 Jan 2022   Prob (F-statistic):           1.05e-07\n",
      "Time:                        15:47:05   Log-Likelihood:                -143.68\n",
      "No. Observations:                  26   AIC:                             293.4\n",
      "Df Residuals:                      23   BIC:                             297.1\n",
      "Df Model:                           2                                         \n",
      "Covariance Type:            nonrobust                                         \n",
      "================================================================================\n",
      "                   coef    std err          t      P>|t|      [0.025      0.975]\n",
      "--------------------------------------------------------------------------------\n",
      "Intercept      198.9956    156.362      1.273      0.216    -124.464     522.455\n",
      "Income          10.5122      1.477      7.120      0.000       7.458      13.567\n",
      "Unemployment     0.6186      6.868      0.090      0.929     -13.589      14.826\n",
      "==============================================================================\n",
      "Omnibus:                        1.693   Durbin-Watson:                   1.467\n",
      "Prob(Omnibus):                  0.429   Jarque-Bera (JB):                1.027\n",
      "Skew:                          -0.071   Prob(JB):                        0.598\n",
      "Kurtosis:                       2.037   Cond. No.                         930.\n",
      "==============================================================================\n",
      "\n",
      "Notes:\n",
      "[1] Standard Errors assume that the covariance matrix of the errors is correctly specified.\n"
     ]
    }
   ],
   "source": [
    "model = ols('Debt ~ Income+Unemployment', data=Debt_Payments).fit()\n",
    "print(model.summary())"
   ]
  }
 ],
 "metadata": {
  "kernelspec": {
   "display_name": "Python 3",
   "language": "python",
   "name": "python3"
  },
  "language_info": {
   "codemirror_mode": {
    "name": "ipython",
    "version": 3
   },
   "file_extension": ".py",
   "mimetype": "text/x-python",
   "name": "python",
   "nbconvert_exporter": "python",
   "pygments_lexer": "ipython3",
   "version": "3.8.5"
  }
 },
 "nbformat": 4,
 "nbformat_minor": 4
}

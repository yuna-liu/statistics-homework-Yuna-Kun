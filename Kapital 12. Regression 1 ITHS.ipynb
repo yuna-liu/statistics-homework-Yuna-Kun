{
 "cells": [
  {
   "cell_type": "markdown",
   "metadata": {},
   "source": [
    "<h1>Kapitel 12 Introduktion till Regression och korrelation</h1>"
   ]
  },
  {
   "cell_type": "code",
   "execution_count": 1,
   "metadata": {},
   "outputs": [],
   "source": [
    "#importera paket och exempeldata \n",
    "import numpy as np\n",
    "import pandas as pd\n",
    "import matplotlib.pyplot as plt\n",
    "import scipy.stats as scs \n",
    "from scipy.stats import t\n",
    "from scipy.stats import norm\n",
    "from statsmodels.stats import proportion\n",
    "import statsmodels.api as sm\n",
    "from statsmodels.formula.api import ols\n",
    "\n",
    "Debt_Payments = None\n",
    "with pd.ExcelFile(r\"\\\\home.gu.gu.se\\home-XS$\\xsumat\\Documents\\ITHS\\Data\\Kap12.xlsx\") as reader:\n",
    "        Debt_Payments=pd.read_excel(reader, sheet_name='Debt_Payments')"
   ]
  },
  {
   "cell_type": "code",
   "execution_count": 2,
   "metadata": {},
   "outputs": [
    {
     "data": {
      "text/html": [
       "<div>\n",
       "<style scoped>\n",
       "    .dataframe tbody tr th:only-of-type {\n",
       "        vertical-align: middle;\n",
       "    }\n",
       "\n",
       "    .dataframe tbody tr th {\n",
       "        vertical-align: top;\n",
       "    }\n",
       "\n",
       "    .dataframe thead th {\n",
       "        text-align: right;\n",
       "    }\n",
       "</style>\n",
       "<table border=\"1\" class=\"dataframe\">\n",
       "  <thead>\n",
       "    <tr style=\"text-align: right;\">\n",
       "      <th></th>\n",
       "      <th>Metropolitan area</th>\n",
       "      <th>Debt</th>\n",
       "      <th>Income</th>\n",
       "      <th>Unemployment</th>\n",
       "    </tr>\n",
       "  </thead>\n",
       "  <tbody>\n",
       "    <tr>\n",
       "      <th>0</th>\n",
       "      <td>Washington, D.C.</td>\n",
       "      <td>1285</td>\n",
       "      <td>103.5</td>\n",
       "      <td>6.3</td>\n",
       "    </tr>\n",
       "    <tr>\n",
       "      <th>1</th>\n",
       "      <td>Seattle</td>\n",
       "      <td>1135</td>\n",
       "      <td>81.7</td>\n",
       "      <td>8.5</td>\n",
       "    </tr>\n",
       "    <tr>\n",
       "      <th>2</th>\n",
       "      <td>Baltimore</td>\n",
       "      <td>1133</td>\n",
       "      <td>82.2</td>\n",
       "      <td>8.1</td>\n",
       "    </tr>\n",
       "    <tr>\n",
       "      <th>3</th>\n",
       "      <td>Boston</td>\n",
       "      <td>1133</td>\n",
       "      <td>89.5</td>\n",
       "      <td>7.6</td>\n",
       "    </tr>\n",
       "    <tr>\n",
       "      <th>4</th>\n",
       "      <td>Denver</td>\n",
       "      <td>1104</td>\n",
       "      <td>75.9</td>\n",
       "      <td>8.1</td>\n",
       "    </tr>\n",
       "  </tbody>\n",
       "</table>\n",
       "</div>"
      ],
      "text/plain": [
       "  Metropolitan area  Debt  Income  Unemployment\n",
       "0  Washington, D.C.  1285   103.5           6.3\n",
       "1           Seattle  1135    81.7           8.5\n",
       "2         Baltimore  1133    82.2           8.1\n",
       "3            Boston  1133    89.5           7.6\n",
       "4            Denver  1104    75.9           8.1"
      ]
     },
     "execution_count": 2,
     "metadata": {},
     "output_type": "execute_result"
    }
   ],
   "source": [
    "Debt_Payments.head()"
   ]
  },
  {
   "cell_type": "markdown",
   "metadata": {},
   "source": [
    "<h3>Scatter plot av Debt vs. Income</h3>"
   ]
  },
  {
   "cell_type": "code",
   "execution_count": 3,
   "metadata": {},
   "outputs": [
    {
     "data": {
      "image/png": "[encoded data removed]",
      "text/plain": [
       "<Figure size 432x288 with 1 Axes>"
      ]
     },
     "metadata": {
      "needs_background": "light"
     },
     "output_type": "display_data"
    }
   ],
   "source": [
    "plt.scatter(Debt_Payments['Income'],Debt_Payments['Debt'])\n",
    "plt.show()"
   ]
  },
  {
   "cell_type": "markdown",
   "metadata": {},
   "source": [
    "<h3>Gör regression med statsmodels</h3>"
   ]
  },
  {
   "cell_type": "code",
   "execution_count": 2,
   "metadata": {
    "scrolled": true
   },
   "outputs": [
    {
     "name": "stdout",
     "output_type": "stream",
     "text": [
      "                            OLS Regression Results                            \n",
      "==============================================================================\n",
      "Dep. Variable:                   Debt   R-squared:                       0.753\n",
      "Model:                            OLS   Adj. R-squared:                  0.742\n",
      "Method:                 Least Squares   F-statistic:                     73.00\n",
      "Date:                Mon, 10 Jan 2022   Prob (F-statistic):           9.66e-09\n",
      "Time:                        15:29:37   Log-Likelihood:                -143.68\n",
      "No. Observations:                  26   AIC:                             291.4\n",
      "Df Residuals:                      24   BIC:                             293.9\n",
      "Df Model:                           1                                         \n",
      "Covariance Type:            nonrobust                                         \n",
      "==============================================================================\n",
      "                 coef    std err          t      P>|t|      [0.025      0.975]\n",
      "------------------------------------------------------------------------------\n",
      "Intercept    210.2977     91.339      2.302      0.030      21.784     398.812\n",
      "Income        10.4411      1.222      8.544      0.000       7.919      12.963\n",
      "==============================================================================\n",
      "Omnibus:                        1.807   Durbin-Watson:                   1.457\n",
      "Prob(Omnibus):                  0.405   Jarque-Bera (JB):                1.054\n",
      "Skew:                          -0.056   Prob(JB):                        0.590\n",
      "Kurtosis:                       2.020   Cond. No.                         550.\n",
      "==============================================================================\n",
      "\n",
      "Notes:\n",
      "[1] Standard Errors assume that the covariance matrix of the errors is correctly specified.\n"
     ]
    }
   ],
   "source": [
    "\n",
    "model = ols('Debt ~ Income', data=Debt_Payments).fit()\n",
    "print(model.summary())"
   ]
  },
  {
   "cell_type": "markdown",
   "metadata": {},
   "source": [
    "<h3>Korrelation med Pandas</h3>"
   ]
  },
  {
   "cell_type": "code",
   "execution_count": 5,
   "metadata": {},
   "outputs": [
    {
     "data": {
      "text/html": [
       "<div>\n",
       "<style scoped>\n",
       "    .dataframe tbody tr th:only-of-type {\n",
       "        vertical-align: middle;\n",
       "    }\n",
       "\n",
       "    .dataframe tbody tr th {\n",
       "        vertical-align: top;\n",
       "    }\n",
       "\n",
       "    .dataframe thead th {\n",
       "        text-align: right;\n",
       "    }\n",
       "</style>\n",
       "<table border=\"1\" class=\"dataframe\">\n",
       "  <thead>\n",
       "    <tr style=\"text-align: right;\">\n",
       "      <th></th>\n",
       "      <th>Income</th>\n",
       "      <th>Debt</th>\n",
       "    </tr>\n",
       "  </thead>\n",
       "  <tbody>\n",
       "    <tr>\n",
       "      <th>Income</th>\n",
       "      <td>1.000000</td>\n",
       "      <td>0.867512</td>\n",
       "    </tr>\n",
       "    <tr>\n",
       "      <th>Debt</th>\n",
       "      <td>0.867512</td>\n",
       "      <td>1.000000</td>\n",
       "    </tr>\n",
       "  </tbody>\n",
       "</table>\n",
       "</div>"
      ],
      "text/plain": [
       "          Income      Debt\n",
       "Income  1.000000  0.867512\n",
       "Debt    0.867512  1.000000"
      ]
     },
     "execution_count": 5,
     "metadata": {},
     "output_type": "execute_result"
    }
   ],
   "source": [
    "Debt_Payments[['Income','Debt']].corr()"
   ]
  },
  {
   "cell_type": "markdown",
   "metadata": {},
   "source": [
    "<h3>Korrelation med scipy.stats</h3>"
   ]
  },
  {
   "cell_type": "code",
   "execution_count": 6,
   "metadata": {},
   "outputs": [
    {
     "data": {
      "text/plain": [
       "0.8675115383209512"
      ]
     },
     "execution_count": 6,
     "metadata": {},
     "output_type": "execute_result"
    }
   ],
   "source": [
    "r,p=scs.pearsonr(Debt_Payments['Income'],Debt_Payments['Debt'])\n",
    "r"
   ]
  },
  {
   "cell_type": "markdown",
   "metadata": {},
   "source": [
    "<h3>In sample-prediktion</h3>"
   ]
  },
  {
   "cell_type": "code",
   "execution_count": 3,
   "metadata": {},
   "outputs": [
    {
     "name": "stdout",
     "output_type": "stream",
     "text": [
      "0     1290.952093\n",
      "1     1063.335995\n",
      "2     1068.556548\n",
      "3     1144.776617\n",
      "4     1002.777583\n",
      "5     1185.496928\n",
      "6      998.601141\n",
      "7      973.542488\n",
      "8      922.381072\n",
      "9      994.424699\n",
      "10    1027.836236\n",
      "11    1087.350537\n",
      "12    1027.836236\n",
      "13     959.969051\n",
      "14     923.425182\n",
      "15     905.675303\n",
      "16     953.704388\n",
      "17     935.954509\n",
      "18     890.013645\n",
      "19     926.557514\n",
      "20     923.425182\n",
      "21     838.852229\n",
      "22     939.086840\n",
      "23     886.881313\n",
      "24     830.499344\n",
      "25     868.087324\n",
      "dtype: float64\n"
     ]
    }
   ],
   "source": [
    "ypred = model.predict(Debt_Payments['Income'])\n",
    "print(ypred)"
   ]
  },
  {
   "cell_type": "code",
   "execution_count": 4,
   "metadata": {},
   "outputs": [
    {
     "data": {
      "image/png": "[encoded data removed]",
      "text/plain": [
       "<Figure size 432x288 with 1 Axes>"
      ]
     },
     "metadata": {
      "needs_background": "light"
     },
     "output_type": "display_data"
    }
   ],
   "source": [
    "fig, ax = plt.subplots()\n",
    "ax.plot(Debt_Payments['Income'],Debt_Payments['Debt'], \"o\", label=\"Data\")\n",
    "ax.plot(Debt_Payments['Income'], ypred, \"r\", label=\"OLS prediction\")\n",
    "ax.legend(loc=\"best\")\n",
    "plt.show()"
   ]
  },
  {
   "cell_type": "markdown",
   "metadata": {},
   "source": [
    "<h3>Out of sample-prediktion</h3>"
   ]
  },
  {
   "cell_type": "code",
   "execution_count": 6,
   "metadata": {},
   "outputs": [
    {
     "name": "stdout",
     "output_type": "stream",
     "text": [
      "0    1170.879380\n",
      "1    1285.731540\n",
      "2    2319.400975\n",
      "dtype: float64\n"
     ]
    }
   ],
   "source": [
    "\n",
    "Income_new=pd.DataFrame([92,103,202], columns=['Income'])\n",
    "ypred = model.predict(Income_new)\n",
    "print(ypred)\n",
    "#Income_new"
   ]
  }
 ],
 "metadata": {
  "kernelspec": {
   "display_name": "Python 3",
   "language": "python",
   "name": "python3"
  },
  "language_info": {
   "codemirror_mode": {
    "name": "ipython",
    "version": 3
   },
   "file_extension": ".py",
   "mimetype": "text/x-python",
   "name": "python",
   "nbconvert_exporter": "python",
   "pygments_lexer": "ipython3",
   "version": "3.8.5"
  }
 },
 "nbformat": 4,
 "nbformat_minor": 4
}

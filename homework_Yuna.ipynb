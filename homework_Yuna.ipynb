{
 "cells": [
  {
   "cell_type": "markdown",
   "metadata": {},
   "source": [
    "# Inlämningsuppgift for statistics methods"
   ]
  },
  {
   "cell_type": "markdown",
   "metadata": {},
   "source": [
    "## Uppgifter 1\n",
    "\n",
    "Här är tanken att du lära dig förstå hur Centrala gränsvärdessatsen fungerar genom att se hur ett histogram av observationer av stickprovsmedelvärden påverkas av hur många observationer som ingår i varje medelvärde. Dessutom behandlas konfidensintervall och styrka hos ett hypotestest."
   ]
  },
  {
   "cell_type": "markdown",
   "metadata": {},
   "source": [
    "I Python kan man, t ex med numpy.random.random_integers, generera observationer av en likformigt fördelad diskret slumpvariabel som tar värden 4,5,6,7. För en sådan slumpvariabel, kalla den X, gäller alltså att P(X=4)=P(X=5)=P(X=6)=P(X=7)=1/4. I deluppgifterna 1-7 menas slumpvariabel/slumpvariabler definierade enligt ovan även om det bara står slumpvariabel/slumpvariabler."
   ]
  },
  {
   "cell_type": "markdown",
   "metadata": {},
   "source": [
    "1) Vi ska alltså skapa observationer av stickprovsmedelvärden $${\\bar x}$$ \n",
    "Hur ska du göra/skriva i Python för att få observationer av stickprovsmedelvärden baserade på fem observationer av slumpvariabler? Svara gärna med hjälp av en skärmdump och förklarande text."
   ]
  },
  {
   "cell_type": "code",
   "execution_count": null,
   "metadata": {},
   "outputs": [],
   "source": [
    "import numpy as np"
   ]
  },
  {
   "cell_type": "code",
   "execution_count": null,
   "metadata": {},
   "outputs": [],
   "source": [
    "# Create a uniformly distributed discrete random variable X of five observations\n",
    "# which take values 4, 5, 6, 7\n",
    "# we then calculate the mean X_bar for these five observations.\n",
    "sample_5=np.random.randint(4,8,5)\n",
    "x_bar_5=sample_5.mean()\n",
    "sample_5, x_bar_5"
   ]
  },
  {
   "cell_type": "markdown",
   "metadata": {},
   "source": [
    "TODO: random.randint, ja. den ger diskreta likformiga slumptal. random.uniform ger kontinuerliga likformiga och den ska ni använda i deluppgift 2"
   ]
  },
  {
   "cell_type": "markdown",
   "metadata": {},
   "source": [
    "2) Skapa 1000 standardiserade stickprovsmedelvärden, vart och ett baserat på 2 observationer av slumpvariabler, och gör histogram för de 1000 standardiserade stickprovsmedelvärdena. Upprepa proceduren för stickprovsstorlekarna 10, 20, 30 och 50. "
   ]
  },
  {
   "cell_type": "code",
   "execution_count": 6,
   "metadata": {},
   "outputs": [
    {
     "data": {
      "text/plain": [
       "array([5.5, 6. , 6.5, 5. , 6. , 5.5, 5. , 6.5, 5. , 5.5, 5. , 5. , 6. ,\n",
       "       5.5, 5.5, 6. , 5.5, 4. , 4.5, 6.5, 6. , 6.5, 5. , 6. , 5.5, 6. ,\n",
       "       5. , 5.5, 6.5, 6. , 6. , 5.5, 6.5, 5. , 7. , 4.5, 4. , 7. , 4.5,\n",
       "       6.5, 4. , 6. , 6. , 6.5, 6.5, 5. , 5.5, 5.5, 6. , 5. , 5. , 4. ,\n",
       "       6.5, 5.5, 6.5, 5. , 6.5, 4.5, 6.5, 6. , 5. , 4.5, 6. , 4.5, 5. ,\n",
       "       4. , 5. , 6. , 6. , 5.5, 6. , 6. , 5. , 6.5, 5. , 6.5, 6. , 4.5,\n",
       "       7. , 7. , 5. , 6.5, 5. , 4.5, 5.5, 5.5, 4.5, 7. , 6.5, 6. , 5.5,\n",
       "       4.5, 6. , 5. , 5.5, 6. , 5. , 6. , 6.5, 6. , 4.5, 6. , 6. , 4. ,\n",
       "       4.5, 5.5, 7. , 5.5, 5.5, 5.5, 5. , 7. , 5.5, 5.5, 6. , 7. , 7. ,\n",
       "       7. , 6. , 5. , 5.5, 7. , 4. , 4. , 4.5, 4.5, 5.5, 5. , 4.5, 6. ,\n",
       "       5. , 4.5, 5.5, 6. , 5. , 7. , 6. , 6. , 5.5, 5.5, 5.5, 4.5, 4. ,\n",
       "       6.5, 5. , 4. , 6. , 5. , 5. , 6. , 6.5, 4.5, 4.5, 5. , 5.5, 6.5,\n",
       "       7. , 4. , 4. , 5.5, 6.5, 4.5, 6. , 5.5, 4.5, 4.5, 6. , 4. , 6.5,\n",
       "       5. , 5.5, 7. , 4. , 6. , 5. , 6.5, 5.5, 6. , 4. , 6.5, 5.5, 6. ,\n",
       "       6.5, 5.5, 5.5, 6.5, 6. , 5.5, 5.5, 6. , 5. , 5. , 4.5, 5.5, 5. ,\n",
       "       4. , 5.5, 5.5, 4.5, 7. , 6.5, 6. , 5. , 5.5, 4.5, 6. , 5.5, 5.5,\n",
       "       5. , 5.5, 7. , 4.5, 6. , 6. , 5. , 7. , 6. , 4. , 6. , 5.5, 5.5,\n",
       "       6. , 4.5, 6.5, 5.5, 4. , 4. , 6.5, 5. , 5.5, 5.5, 4.5, 5. , 6.5,\n",
       "       4.5, 4.5, 6.5, 4.5, 4. , 5.5, 5. , 5. , 6. , 4. , 6.5, 7. , 5. ,\n",
       "       5.5, 6.5, 4. , 6.5, 5.5, 4.5, 6. , 6. , 6. , 4.5, 4.5, 5.5, 5. ,\n",
       "       6. , 4.5, 5. , 7. , 4.5, 4. , 5.5, 4.5, 4.5, 4.5, 5. , 4. , 4.5,\n",
       "       5.5, 5. , 5. , 7. , 6. , 5. , 5. , 4.5, 5. , 6. , 5. , 7. , 6. ,\n",
       "       6.5, 6.5, 6. , 5. , 5. , 7. , 4.5, 5. , 6.5, 5. , 4. , 5.5, 5.5,\n",
       "       5.5, 5. , 4.5, 5. , 7. , 5.5, 7. , 6. , 6. , 5. , 5. , 6. , 5.5,\n",
       "       4.5, 6.5, 4.5, 5.5, 7. , 5. , 5.5, 5. , 4. , 5.5, 5.5, 6. , 5. ,\n",
       "       5. , 5.5, 5.5, 5.5, 6. , 4. , 7. , 5.5, 7. , 7. , 5.5, 5.5, 6. ,\n",
       "       4. , 4.5, 5.5, 6.5, 5.5, 5. , 5.5, 7. , 6.5, 6. , 5. , 6. , 5. ,\n",
       "       6.5, 5.5, 6. , 6. , 4.5, 4.5, 4.5, 6. , 6. , 6. , 4.5, 6. , 6. ,\n",
       "       5.5, 5.5, 4. , 6.5, 7. , 7. , 5.5, 6. , 4. , 4.5, 5.5, 6. , 6.5,\n",
       "       5. , 5.5, 6.5, 5.5, 5.5, 5.5, 5. , 6. , 7. , 4. , 5. , 4.5, 6.5,\n",
       "       5.5, 5. , 6.5, 5.5, 7. , 6. , 5. , 6. , 6.5, 4.5, 5.5, 4.5, 7. ,\n",
       "       6. , 6.5, 5.5, 6.5, 6.5, 5. , 6. , 4. , 4.5, 7. , 6. , 5.5, 6.5,\n",
       "       4.5, 5.5, 6.5, 5.5, 5. , 5. , 4.5, 6. , 5.5, 6.5, 6. , 5. , 6. ,\n",
       "       4.5, 4. , 6. , 5. , 6. , 7. , 5. , 5.5, 5.5, 4.5, 5.5, 5.5, 5. ,\n",
       "       5. , 5. , 5.5, 6.5, 6.5, 5.5, 5. , 6. , 6. , 5. , 5. , 6. , 6. ,\n",
       "       5.5, 6.5, 5.5, 5.5, 5.5, 5. , 5.5, 6. , 4.5, 5. , 6.5, 5.5, 5.5,\n",
       "       7. , 6.5, 6.5, 6. , 4.5, 5.5, 6.5, 5.5, 4.5, 6. , 6. , 5.5, 5.5,\n",
       "       6. , 6. , 6. , 6.5, 5.5, 6. , 5.5, 7. , 7. , 7. , 5.5, 5. , 5. ,\n",
       "       6.5, 7. , 5. , 6.5, 5. , 5.5, 4. , 7. , 4. , 6. , 4. , 5.5, 6.5,\n",
       "       7. , 5.5, 6. , 6. , 5.5, 5.5, 4.5, 6.5, 4.5, 4.5, 6. , 6. , 6. ,\n",
       "       7. , 6. , 4.5, 6. , 4.5, 5.5, 5.5, 7. , 5. , 6.5, 5.5, 5.5, 5. ,\n",
       "       6. , 4.5, 6. , 5.5, 6. , 5.5, 5. , 4.5, 4. , 5.5, 5.5, 5. , 6.5,\n",
       "       7. , 5.5, 6.5, 4.5, 6. , 4.5, 5.5, 5. , 4. , 6.5, 7. , 4.5, 5.5,\n",
       "       5.5, 5. , 5. , 4.5, 5.5, 5.5, 6.5, 6. , 5. , 6. , 5. , 4.5, 6.5,\n",
       "       6. , 6.5, 5.5, 4.5, 5. , 5. , 5. , 6. , 5.5, 5. , 6. , 5.5, 6. ,\n",
       "       6. , 6. , 5. , 5.5, 5.5, 5.5, 6.5, 5.5, 5. , 6. , 5.5, 5. , 6.5,\n",
       "       5.5, 5.5, 6.5, 4.5, 5. , 4. , 4.5, 6. , 6. , 7. , 4. , 5.5, 5.5,\n",
       "       5.5, 7. , 7. , 5.5, 6. , 5.5, 5. , 5.5, 5. , 7. , 7. , 6. , 5. ,\n",
       "       4. , 4.5, 4. , 5. , 5.5, 5.5, 5.5, 5. , 7. , 7. , 5. , 7. , 5.5,\n",
       "       4. , 5.5, 6.5, 5.5, 5.5, 5.5, 5.5, 5.5, 5.5, 5. , 6. , 7. , 5. ,\n",
       "       4.5, 4. , 5. , 7. , 6.5, 5.5, 5.5, 5. , 6.5, 6. , 5.5, 4. , 6.5,\n",
       "       7. , 5. , 6.5, 6.5, 4.5, 5.5, 6. , 4. , 5.5, 4.5, 4.5, 6.5, 4.5,\n",
       "       7. , 5.5, 5. , 6.5, 4. , 5.5, 4. , 5. , 6.5, 5. , 6.5, 6.5, 5.5,\n",
       "       4. , 5.5, 4.5, 4.5, 5. , 5.5, 5. , 6. , 5. , 4. , 4.5, 6. , 5.5,\n",
       "       5. , 6. , 4.5, 4. , 6.5, 5. , 4.5, 4.5, 4.5, 4. , 5. , 6.5, 5. ,\n",
       "       4. , 7. , 5. , 7. , 6.5, 5. , 6. , 6. , 6. , 5.5, 5.5, 5.5, 5. ,\n",
       "       5.5, 4.5, 6.5, 5. , 5.5, 5.5, 7. , 5. , 5. , 5. , 6. , 6. , 5. ,\n",
       "       4. , 6.5, 5. , 5.5, 6.5, 4.5, 5.5, 6. , 6. , 5. , 5.5, 5.5, 4.5,\n",
       "       4. , 6.5, 4.5, 6.5, 5. , 6. , 5. , 5. , 6. , 5.5, 5. , 6. , 6.5,\n",
       "       5. , 5. , 6. , 4.5, 6. , 6. , 6. , 6.5, 6.5, 5. , 5.5, 5.5, 4.5,\n",
       "       5.5, 6. , 6.5, 6. , 4.5, 4. , 5. , 4.5, 6. , 6. , 5. , 7. , 6.5,\n",
       "       6.5, 5.5, 5.5, 5.5, 5.5, 6. , 4.5, 5. , 4.5, 6.5, 5.5, 6.5, 5. ,\n",
       "       4.5, 4.5, 5.5, 6. , 5.5, 6. , 6. , 5.5, 5. , 6. , 6.5, 5.5, 4. ,\n",
       "       4.5, 6. , 5. , 5. , 7. , 6. , 7. , 5. , 4.5, 4.5, 4.5, 4.5, 5. ,\n",
       "       7. , 4.5, 5.5, 6. , 7. , 4.5, 5. , 4.5, 4.5, 4.5, 5.5, 5. , 6.5,\n",
       "       6. , 6.5, 5. , 6.5, 6. , 6.5, 4.5, 6. , 4.5, 7. , 6. , 5. , 5. ,\n",
       "       7. , 6. , 4.5, 4. , 4.5, 4. , 4.5, 4. , 5.5, 5. , 5. , 6. , 6. ,\n",
       "       7. , 5.5, 6.5, 7. , 4. , 5. , 6. , 5.5, 4.5, 6. , 6. , 6.5, 6.5,\n",
       "       5.5, 6.5, 5. , 5.5, 7. , 6. , 6. , 6.5, 5.5, 4. , 5.5, 4.5, 5. ,\n",
       "       6.5, 6.5, 6.5, 6. , 6. , 4.5, 5.5, 5. , 5.5, 5.5, 4. , 5. , 5.5,\n",
       "       6.5, 6.5, 5.5, 6. , 5.5, 5.5, 5.5, 5.5, 6. , 5. , 6. , 4. , 5. ,\n",
       "       6.5, 4. , 5.5, 4.5, 5.5, 5.5, 5.5, 6.5, 5.5, 4. , 6. , 4.5, 4. ,\n",
       "       4.5, 4. , 5. , 6.5, 5. , 5. , 6.5, 4.5, 5.5, 7. , 6. , 6.5, 5.5,\n",
       "       5. , 4. , 4.5, 6. , 4. , 6. , 7. , 5.5, 6.5, 4. , 7. , 5. , 6. ,\n",
       "       6. , 4. , 5.5, 6. , 6. , 5. , 5. , 5.5, 5.5, 5.5, 5. , 6. , 7. ,\n",
       "       4. , 6.5, 5. , 4. , 5. , 6.5, 7. , 6.5, 5. , 6. , 7. , 6.5, 5.5,\n",
       "       5.5, 5.5, 5.5, 5. , 5. , 5.5, 5. , 6. , 6. , 5.5, 4.5, 4.5])"
      ]
     },
     "execution_count": 6,
     "metadata": {},
     "output_type": "execute_result"
    }
   ],
   "source": [
    "# We create a X variable with 2 observations in each loop\n",
    "# We calculate the sample mean for this X variable as x_bar_2 in each loop\n",
    "# Loop for 1000 times, we save x_bar_2 to x_bars_2 during each loop\n",
    "\n",
    "samples=1000\n",
    "\n",
    "x_bars_2=np.zeros(samples)\n",
    "\n",
    "for x in range(samples):\n",
    "    sample_2=np.random.randint(4,8,2)\n",
    "    x_bar_2=sample_2.mean()\n",
    "    x_bars_2[x]=x_bar_2\n",
    "    \n",
    "x_bars_2"
   ]
  },
  {
   "cell_type": "markdown",
   "metadata": {},
   "source": [
    "## Uppgifter 2"
   ]
  },
  {
   "cell_type": "code",
   "execution_count": null,
   "metadata": {},
   "outputs": [],
   "source": [
    "#Define an array for 1000 samples per each sample size\n",
    "samples=1000\n",
    "samples_5 = np.zeros((samples,5)) \n",
    "#Defining parameters from our population distribution\n",
    "lo, hi = 7,11\n",
    "#Creating for loop for sample size 5\n",
    "for x in range(samples):\n",
    "    samples_5[x,] = np.random.uniform(lo, hi, 5)"
   ]
  }
 ],
 "metadata": {
  "interpreter": {
   "hash": "aac63b6c2060b0119cc63269c206b189331da046d0c022d9f1067af853077b49"
  },
  "kernelspec": {
   "display_name": "Python 3.9.6 64-bit ('statistic-methods-jEi7ZLFM': pipenv)",
   "language": "python",
   "name": "python3"
  },
  "language_info": {
   "codemirror_mode": {
    "name": "ipython",
    "version": 3
   },
   "file_extension": ".py",
   "mimetype": "text/x-python",
   "name": "python",
   "nbconvert_exporter": "python",
   "pygments_lexer": "ipython3",
   "version": "3.9.6"
  },
  "orig_nbformat": 4
 },
 "nbformat": 4,
 "nbformat_minor": 2
}
